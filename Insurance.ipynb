{
  "nbformat": 4,
  "nbformat_minor": 0,
  "metadata": {
    "colab": {
      "name": "Insuarance.ipynb",
      "provenance": [],
      "toc_visible": true,
      "authorship_tag": "ABX9TyOv/B2nlAg9IkLhiEY3bD8z",
      "include_colab_link": true
    },
    "kernelspec": {
      "name": "python3",
      "display_name": "Python 3"
    }
  },
  "cells": [
    {
      "cell_type": "markdown",
      "metadata": {
        "id": "view-in-github",
        "colab_type": "text"
      },
      "source": [
        "<a href=\"https://colab.research.google.com/github/victoriousvictor42/ALIF-TRADING-COMPANY/blob/master/Insurance.ipynb\" target=\"_parent\"><img src=\"https://colab.research.google.com/assets/colab-badge.svg\" alt=\"Open In Colab\"/></a>"
      ]
    },
    {
      "cell_type": "markdown",
      "metadata": {
        "id": "VE-RzjuCy6FO"
      },
      "source": [
        "# 1. Defining the Question\r\n"
      ]
    },
    {
      "cell_type": "markdown",
      "metadata": {
        "id": "--euj8pIzv5Z"
      },
      "source": [
        "a) Specifying the questions\r\n",
        "\r\n",
        "\r\n",
        "> Building a predictive model to determine if a building will have an insurance claim during a certain period or not.\r\n",
        "\r\n",
        "\r\n",
        "\r\n"
      ]
    },
    {
      "cell_type": "markdown",
      "metadata": {
        "id": "7FLnb73C0QkE"
      },
      "source": [
        "b) Metric of success\r\n",
        "\r\n",
        "\r\n",
        "> regression\r\n",
        "\r\n"
      ]
    },
    {
      "cell_type": "markdown",
      "metadata": {
        "id": "O5RDHght0ds6"
      },
      "source": [
        "c) Understanding the context\r\n",
        "\r\n",
        "\r\n",
        "> There has been an increase in the number of building collapse in Lagos and major cities in Nigeria. Olusola Insurance Company offers a building insurance policy that protects buildings against damages that could be caused by a fire or vandalism, by a flood or storm.\r\n",
        "\r\n",
        "\r\n"
      ]
    },
    {
      "cell_type": "markdown",
      "metadata": {
        "id": "YuVKR5Ch0ssx"
      },
      "source": [
        "d) Recording the Experimental Data\r\n",
        "\r\n",
        "\r\n",
        "*  Data Cleaning \r\n",
        "*  EDA\r\n",
        "*  Modelling\r\n",
        "\r\n"
      ]
    },
    {
      "cell_type": "markdown",
      "metadata": {
        "id": "6DBeQfTV09g3"
      },
      "source": [
        "# 2. Reading the Data"
      ]
    },
    {
      "cell_type": "code",
      "metadata": {
        "id": "XRJpHYUKy14W"
      },
      "source": [
        "# importing the prerequisities\r\n",
        "import pandas as pd\r\n",
        "import numpy as np\r\n",
        "import matplotlib.pyplot as plt\r\n",
        "import seaborn as sns"
      ],
      "execution_count": 163,
      "outputs": []
    },
    {
      "cell_type": "markdown",
      "metadata": {
        "id": "vxtiIOwD1vzO"
      },
      "source": [
        "# 3. Loading the Data"
      ]
    },
    {
      "cell_type": "code",
      "metadata": {
        "id": "pmQdKq1K1f2V"
      },
      "source": [
        "# loading the datasets\r\n",
        "train = pd.read_csv(\"/content/train_data.csv\")\r\n",
        "test = pd.read_csv(\"/content/test_data.csv\") \r\n",
        "sample = pd.read_csv(\"/content/sample_submission.csv\")\r\n",
        "variabledescription = pd.read_csv(\"/content/VariableDescription.csv\")"
      ],
      "execution_count": 164,
      "outputs": []
    },
    {
      "cell_type": "markdown",
      "metadata": {
        "id": "G2ECckKf2kut"
      },
      "source": [
        "# 4. Understanding the Dataset"
      ]
    },
    {
      "cell_type": "code",
      "metadata": {
        "colab": {
          "base_uri": "https://localhost:8080/"
        },
        "id": "ZqPfMvTJ2ZBM",
        "outputId": "67cd029f-cea2-4c37-f114-db6dc2f9d5f1"
      },
      "source": [
        "# previewing the variable description dataset\r\n",
        "print(variabledescription)"
      ],
      "execution_count": 165,
      "outputs": [
        {
          "output_type": "stream",
          "text": [
            "              Variable                                        Description\n",
            "0          Customer Id        Identification number for the Policy holder\n",
            "1    YearOfObservation         year of observation for the insured policy\n",
            "2       Insured_Period  duration of insurance policy in Olusola Insura...\n",
            "3          Residential      is the building a residential building or not\n",
            "4     Building_Painted  is the building painted or not (N-Painted, V-N...\n",
            "5      Building_Fenced  is the building fence or not (N-Fenced, V-Not ...\n",
            "6               Garden  building has garden or not (V-has garden; O-no...\n",
            "7           Settlement  Area where the building is located. (R- rural ...\n",
            "8   Building Dimension                 Size of the insured building in m2\n",
            "9        Building_Type             The type of building (Type 1, 2, 3, 4)\n",
            "10   Date_of_Occupancy                   date building was first occupied\n",
            "11     NumberOfWindows                  number of windows in the building\n",
            "12            Geo Code          Geographical Code of the Insured building\n",
            "13               Claim  target variable. (0: no claim, 1: at least one...\n"
          ],
          "name": "stdout"
        }
      ]
    },
    {
      "cell_type": "code",
      "metadata": {
        "colab": {
          "base_uri": "https://localhost:8080/"
        },
        "id": "08dHvam63HM1",
        "outputId": "ea881602-fdd8-4fec-a84f-61d8dda6e795"
      },
      "source": [
        "# checking for the number of records in the train and test datasets\r\n",
        "print(train.shape)\r\n",
        "print(\"*\"*100)\r\n",
        "test.shape"
      ],
      "execution_count": 166,
      "outputs": [
        {
          "output_type": "stream",
          "text": [
            "(7160, 14)\n",
            "****************************************************************************************************\n"
          ],
          "name": "stdout"
        },
        {
          "output_type": "execute_result",
          "data": {
            "text/plain": [
              "(3069, 13)"
            ]
          },
          "metadata": {
            "tags": []
          },
          "execution_count": 166
        }
      ]
    },
    {
      "cell_type": "code",
      "metadata": {
        "colab": {
          "base_uri": "https://localhost:8080/",
          "height": 241
        },
        "id": "GuIPClkr3pz1",
        "outputId": "55651757-1421-454b-d16e-8038f7c3ac4f"
      },
      "source": [
        "# previewing the top train  datasets\r\n",
        "train.head()"
      ],
      "execution_count": 167,
      "outputs": [
        {
          "output_type": "execute_result",
          "data": {
            "text/html": [
              "<div>\n",
              "<style scoped>\n",
              "    .dataframe tbody tr th:only-of-type {\n",
              "        vertical-align: middle;\n",
              "    }\n",
              "\n",
              "    .dataframe tbody tr th {\n",
              "        vertical-align: top;\n",
              "    }\n",
              "\n",
              "    .dataframe thead th {\n",
              "        text-align: right;\n",
              "    }\n",
              "</style>\n",
              "<table border=\"1\" class=\"dataframe\">\n",
              "  <thead>\n",
              "    <tr style=\"text-align: right;\">\n",
              "      <th></th>\n",
              "      <th>Customer Id</th>\n",
              "      <th>YearOfObservation</th>\n",
              "      <th>Insured_Period</th>\n",
              "      <th>Residential</th>\n",
              "      <th>Building_Painted</th>\n",
              "      <th>Building_Fenced</th>\n",
              "      <th>Garden</th>\n",
              "      <th>Settlement</th>\n",
              "      <th>Building Dimension</th>\n",
              "      <th>Building_Type</th>\n",
              "      <th>Date_of_Occupancy</th>\n",
              "      <th>NumberOfWindows</th>\n",
              "      <th>Geo_Code</th>\n",
              "      <th>Claim</th>\n",
              "    </tr>\n",
              "  </thead>\n",
              "  <tbody>\n",
              "    <tr>\n",
              "      <th>0</th>\n",
              "      <td>H14663</td>\n",
              "      <td>2013</td>\n",
              "      <td>1.0</td>\n",
              "      <td>0</td>\n",
              "      <td>N</td>\n",
              "      <td>V</td>\n",
              "      <td>V</td>\n",
              "      <td>U</td>\n",
              "      <td>290.0</td>\n",
              "      <td>1</td>\n",
              "      <td>1960.0</td>\n",
              "      <td>.</td>\n",
              "      <td>1053</td>\n",
              "      <td>0</td>\n",
              "    </tr>\n",
              "    <tr>\n",
              "      <th>1</th>\n",
              "      <td>H2037</td>\n",
              "      <td>2015</td>\n",
              "      <td>1.0</td>\n",
              "      <td>0</td>\n",
              "      <td>V</td>\n",
              "      <td>N</td>\n",
              "      <td>O</td>\n",
              "      <td>R</td>\n",
              "      <td>490.0</td>\n",
              "      <td>1</td>\n",
              "      <td>1850.0</td>\n",
              "      <td>4</td>\n",
              "      <td>1053</td>\n",
              "      <td>0</td>\n",
              "    </tr>\n",
              "    <tr>\n",
              "      <th>2</th>\n",
              "      <td>H3802</td>\n",
              "      <td>2014</td>\n",
              "      <td>1.0</td>\n",
              "      <td>0</td>\n",
              "      <td>N</td>\n",
              "      <td>V</td>\n",
              "      <td>V</td>\n",
              "      <td>U</td>\n",
              "      <td>595.0</td>\n",
              "      <td>1</td>\n",
              "      <td>1960.0</td>\n",
              "      <td>.</td>\n",
              "      <td>1053</td>\n",
              "      <td>0</td>\n",
              "    </tr>\n",
              "    <tr>\n",
              "      <th>3</th>\n",
              "      <td>H3834</td>\n",
              "      <td>2013</td>\n",
              "      <td>1.0</td>\n",
              "      <td>0</td>\n",
              "      <td>V</td>\n",
              "      <td>V</td>\n",
              "      <td>V</td>\n",
              "      <td>U</td>\n",
              "      <td>2840.0</td>\n",
              "      <td>1</td>\n",
              "      <td>1960.0</td>\n",
              "      <td>.</td>\n",
              "      <td>1053</td>\n",
              "      <td>0</td>\n",
              "    </tr>\n",
              "    <tr>\n",
              "      <th>4</th>\n",
              "      <td>H5053</td>\n",
              "      <td>2014</td>\n",
              "      <td>1.0</td>\n",
              "      <td>0</td>\n",
              "      <td>V</td>\n",
              "      <td>N</td>\n",
              "      <td>O</td>\n",
              "      <td>R</td>\n",
              "      <td>680.0</td>\n",
              "      <td>1</td>\n",
              "      <td>1800.0</td>\n",
              "      <td>3</td>\n",
              "      <td>1053</td>\n",
              "      <td>0</td>\n",
              "    </tr>\n",
              "  </tbody>\n",
              "</table>\n",
              "</div>"
            ],
            "text/plain": [
              "  Customer Id  YearOfObservation  ...  Geo_Code  Claim\n",
              "0      H14663               2013  ...      1053      0\n",
              "1       H2037               2015  ...      1053      0\n",
              "2       H3802               2014  ...      1053      0\n",
              "3       H3834               2013  ...      1053      0\n",
              "4       H5053               2014  ...      1053      0\n",
              "\n",
              "[5 rows x 14 columns]"
            ]
          },
          "metadata": {
            "tags": []
          },
          "execution_count": 167
        }
      ]
    },
    {
      "cell_type": "code",
      "metadata": {
        "colab": {
          "base_uri": "https://localhost:8080/",
          "height": 241
        },
        "id": "2z3zzp704LuF",
        "outputId": "a048db93-0aca-4869-e5a1-570f68f45a71"
      },
      "source": [
        "# previewing the top of test dataset\r\n",
        "test.head()"
      ],
      "execution_count": 168,
      "outputs": [
        {
          "output_type": "execute_result",
          "data": {
            "text/html": [
              "<div>\n",
              "<style scoped>\n",
              "    .dataframe tbody tr th:only-of-type {\n",
              "        vertical-align: middle;\n",
              "    }\n",
              "\n",
              "    .dataframe tbody tr th {\n",
              "        vertical-align: top;\n",
              "    }\n",
              "\n",
              "    .dataframe thead th {\n",
              "        text-align: right;\n",
              "    }\n",
              "</style>\n",
              "<table border=\"1\" class=\"dataframe\">\n",
              "  <thead>\n",
              "    <tr style=\"text-align: right;\">\n",
              "      <th></th>\n",
              "      <th>Customer Id</th>\n",
              "      <th>YearOfObservation</th>\n",
              "      <th>Insured_Period</th>\n",
              "      <th>Residential</th>\n",
              "      <th>Building_Painted</th>\n",
              "      <th>Building_Fenced</th>\n",
              "      <th>Garden</th>\n",
              "      <th>Settlement</th>\n",
              "      <th>Building Dimension</th>\n",
              "      <th>Building_Type</th>\n",
              "      <th>Date_of_Occupancy</th>\n",
              "      <th>NumberOfWindows</th>\n",
              "      <th>Geo_Code</th>\n",
              "    </tr>\n",
              "  </thead>\n",
              "  <tbody>\n",
              "    <tr>\n",
              "      <th>0</th>\n",
              "      <td>H11920</td>\n",
              "      <td>2013</td>\n",
              "      <td>1.000000</td>\n",
              "      <td>0</td>\n",
              "      <td>V</td>\n",
              "      <td>N</td>\n",
              "      <td>O</td>\n",
              "      <td>R</td>\n",
              "      <td>300.0</td>\n",
              "      <td>1</td>\n",
              "      <td>1960.0</td>\n",
              "      <td>3</td>\n",
              "      <td>3310</td>\n",
              "    </tr>\n",
              "    <tr>\n",
              "      <th>1</th>\n",
              "      <td>H11921</td>\n",
              "      <td>2016</td>\n",
              "      <td>0.997268</td>\n",
              "      <td>0</td>\n",
              "      <td>V</td>\n",
              "      <td>N</td>\n",
              "      <td>O</td>\n",
              "      <td>R</td>\n",
              "      <td>300.0</td>\n",
              "      <td>1</td>\n",
              "      <td>1960.0</td>\n",
              "      <td>3</td>\n",
              "      <td>3310</td>\n",
              "    </tr>\n",
              "    <tr>\n",
              "      <th>2</th>\n",
              "      <td>H9805</td>\n",
              "      <td>2013</td>\n",
              "      <td>0.369863</td>\n",
              "      <td>0</td>\n",
              "      <td>V</td>\n",
              "      <td>V</td>\n",
              "      <td>V</td>\n",
              "      <td>U</td>\n",
              "      <td>790.0</td>\n",
              "      <td>1</td>\n",
              "      <td>1960.0</td>\n",
              "      <td>.</td>\n",
              "      <td>3310</td>\n",
              "    </tr>\n",
              "    <tr>\n",
              "      <th>3</th>\n",
              "      <td>H7493</td>\n",
              "      <td>2014</td>\n",
              "      <td>1.000000</td>\n",
              "      <td>0</td>\n",
              "      <td>V</td>\n",
              "      <td>N</td>\n",
              "      <td>O</td>\n",
              "      <td>R</td>\n",
              "      <td>1405.0</td>\n",
              "      <td>1</td>\n",
              "      <td>2004.0</td>\n",
              "      <td>3</td>\n",
              "      <td>3321</td>\n",
              "    </tr>\n",
              "    <tr>\n",
              "      <th>4</th>\n",
              "      <td>H7494</td>\n",
              "      <td>2016</td>\n",
              "      <td>1.000000</td>\n",
              "      <td>0</td>\n",
              "      <td>V</td>\n",
              "      <td>N</td>\n",
              "      <td>O</td>\n",
              "      <td>R</td>\n",
              "      <td>1405.0</td>\n",
              "      <td>1</td>\n",
              "      <td>2004.0</td>\n",
              "      <td>3</td>\n",
              "      <td>3321</td>\n",
              "    </tr>\n",
              "  </tbody>\n",
              "</table>\n",
              "</div>"
            ],
            "text/plain": [
              "  Customer Id  YearOfObservation  ...  NumberOfWindows  Geo_Code\n",
              "0      H11920               2013  ...                3      3310\n",
              "1      H11921               2016  ...                3      3310\n",
              "2       H9805               2013  ...                .      3310\n",
              "3       H7493               2014  ...                3      3321\n",
              "4       H7494               2016  ...                3      3321\n",
              "\n",
              "[5 rows x 13 columns]"
            ]
          },
          "metadata": {
            "tags": []
          },
          "execution_count": 168
        }
      ]
    },
    {
      "cell_type": "code",
      "metadata": {
        "colab": {
          "base_uri": "https://localhost:8080/",
          "height": 394
        },
        "id": "MgAz5Wu16Ken",
        "outputId": "31a50544-8877-4363-a558-d98e337a535f"
      },
      "source": [
        "# previewing the bottom of both train and test datasets\r\n",
        "print(train.tail())\r\n",
        "print('*'*100)\r\n",
        "test.tail()"
      ],
      "execution_count": 169,
      "outputs": [
        {
          "output_type": "stream",
          "text": [
            "     Customer Id  YearOfObservation  ...  Geo_Code  Claim\n",
            "7155       H5290               2012  ...       NaN      0\n",
            "7156       H5926               2013  ...       NaN      1\n",
            "7157       H6204               2016  ...       NaN      0\n",
            "7158       H6537               2013  ...       NaN      0\n",
            "7159       H7470               2014  ...       NaN      0\n",
            "\n",
            "[5 rows x 14 columns]\n",
            "****************************************************************************************************\n"
          ],
          "name": "stdout"
        },
        {
          "output_type": "execute_result",
          "data": {
            "text/html": [
              "<div>\n",
              "<style scoped>\n",
              "    .dataframe tbody tr th:only-of-type {\n",
              "        vertical-align: middle;\n",
              "    }\n",
              "\n",
              "    .dataframe tbody tr th {\n",
              "        vertical-align: top;\n",
              "    }\n",
              "\n",
              "    .dataframe thead th {\n",
              "        text-align: right;\n",
              "    }\n",
              "</style>\n",
              "<table border=\"1\" class=\"dataframe\">\n",
              "  <thead>\n",
              "    <tr style=\"text-align: right;\">\n",
              "      <th></th>\n",
              "      <th>Customer Id</th>\n",
              "      <th>YearOfObservation</th>\n",
              "      <th>Insured_Period</th>\n",
              "      <th>Residential</th>\n",
              "      <th>Building_Painted</th>\n",
              "      <th>Building_Fenced</th>\n",
              "      <th>Garden</th>\n",
              "      <th>Settlement</th>\n",
              "      <th>Building Dimension</th>\n",
              "      <th>Building_Type</th>\n",
              "      <th>Date_of_Occupancy</th>\n",
              "      <th>NumberOfWindows</th>\n",
              "      <th>Geo_Code</th>\n",
              "    </tr>\n",
              "  </thead>\n",
              "  <tbody>\n",
              "    <tr>\n",
              "      <th>3064</th>\n",
              "      <td>H11583</td>\n",
              "      <td>2015</td>\n",
              "      <td>1.0</td>\n",
              "      <td>0</td>\n",
              "      <td>V</td>\n",
              "      <td>V</td>\n",
              "      <td>V</td>\n",
              "      <td>U</td>\n",
              "      <td>NaN</td>\n",
              "      <td>4</td>\n",
              "      <td>1900.0</td>\n",
              "      <td>.</td>\n",
              "      <td>NaN</td>\n",
              "    </tr>\n",
              "    <tr>\n",
              "      <th>3065</th>\n",
              "      <td>H11720</td>\n",
              "      <td>2012</td>\n",
              "      <td>1.0</td>\n",
              "      <td>0</td>\n",
              "      <td>V</td>\n",
              "      <td>V</td>\n",
              "      <td>V</td>\n",
              "      <td>U</td>\n",
              "      <td>NaN</td>\n",
              "      <td>2</td>\n",
              "      <td>1948.0</td>\n",
              "      <td>.</td>\n",
              "      <td>NaN</td>\n",
              "    </tr>\n",
              "    <tr>\n",
              "      <th>3066</th>\n",
              "      <td>H11721</td>\n",
              "      <td>2012</td>\n",
              "      <td>1.0</td>\n",
              "      <td>0</td>\n",
              "      <td>V</td>\n",
              "      <td>V</td>\n",
              "      <td>V</td>\n",
              "      <td>U</td>\n",
              "      <td>NaN</td>\n",
              "      <td>2</td>\n",
              "      <td>1993.0</td>\n",
              "      <td>.</td>\n",
              "      <td>NaN</td>\n",
              "    </tr>\n",
              "    <tr>\n",
              "      <th>3067</th>\n",
              "      <td>H12408</td>\n",
              "      <td>2013</td>\n",
              "      <td>1.0</td>\n",
              "      <td>0</td>\n",
              "      <td>V</td>\n",
              "      <td>V</td>\n",
              "      <td>V</td>\n",
              "      <td>U</td>\n",
              "      <td>NaN</td>\n",
              "      <td>1</td>\n",
              "      <td>1800.0</td>\n",
              "      <td>.</td>\n",
              "      <td>NaN</td>\n",
              "    </tr>\n",
              "    <tr>\n",
              "      <th>3068</th>\n",
              "      <td>H9021</td>\n",
              "      <td>2012</td>\n",
              "      <td>1.0</td>\n",
              "      <td>0</td>\n",
              "      <td>V</td>\n",
              "      <td>V</td>\n",
              "      <td>V</td>\n",
              "      <td>U</td>\n",
              "      <td>NaN</td>\n",
              "      <td>2</td>\n",
              "      <td>1950.0</td>\n",
              "      <td>.</td>\n",
              "      <td>NaN</td>\n",
              "    </tr>\n",
              "  </tbody>\n",
              "</table>\n",
              "</div>"
            ],
            "text/plain": [
              "     Customer Id  YearOfObservation  ...  NumberOfWindows  Geo_Code\n",
              "3064      H11583               2015  ...                .       NaN\n",
              "3065      H11720               2012  ...                .       NaN\n",
              "3066      H11721               2012  ...                .       NaN\n",
              "3067      H12408               2013  ...                .       NaN\n",
              "3068       H9021               2012  ...                .       NaN\n",
              "\n",
              "[5 rows x 13 columns]"
            ]
          },
          "metadata": {
            "tags": []
          },
          "execution_count": 169
        }
      ]
    },
    {
      "cell_type": "code",
      "metadata": {
        "colab": {
          "base_uri": "https://localhost:8080/"
        },
        "id": "EIF6eArT61_o",
        "outputId": "e0bd0b88-73ca-495b-e417-8bdc046182b0"
      },
      "source": [
        "# checking the summary of both train and test datasets\r\n",
        "print(train.info())\r\n",
        "print(\"*\"*100)\r\n",
        "test.info()"
      ],
      "execution_count": 170,
      "outputs": [
        {
          "output_type": "stream",
          "text": [
            "<class 'pandas.core.frame.DataFrame'>\n",
            "RangeIndex: 7160 entries, 0 to 7159\n",
            "Data columns (total 14 columns):\n",
            " #   Column              Non-Null Count  Dtype  \n",
            "---  ------              --------------  -----  \n",
            " 0   Customer Id         7160 non-null   object \n",
            " 1   YearOfObservation   7160 non-null   int64  \n",
            " 2   Insured_Period      7160 non-null   float64\n",
            " 3   Residential         7160 non-null   int64  \n",
            " 4   Building_Painted    7160 non-null   object \n",
            " 5   Building_Fenced     7160 non-null   object \n",
            " 6   Garden              7153 non-null   object \n",
            " 7   Settlement          7160 non-null   object \n",
            " 8   Building Dimension  7054 non-null   float64\n",
            " 9   Building_Type       7160 non-null   int64  \n",
            " 10  Date_of_Occupancy   6652 non-null   float64\n",
            " 11  NumberOfWindows     7160 non-null   object \n",
            " 12  Geo_Code            7058 non-null   object \n",
            " 13  Claim               7160 non-null   int64  \n",
            "dtypes: float64(3), int64(4), object(7)\n",
            "memory usage: 783.2+ KB\n",
            "None\n",
            "****************************************************************************************************\n",
            "<class 'pandas.core.frame.DataFrame'>\n",
            "RangeIndex: 3069 entries, 0 to 3068\n",
            "Data columns (total 13 columns):\n",
            " #   Column              Non-Null Count  Dtype  \n",
            "---  ------              --------------  -----  \n",
            " 0   Customer Id         3069 non-null   object \n",
            " 1   YearOfObservation   3069 non-null   int64  \n",
            " 2   Insured_Period      3069 non-null   float64\n",
            " 3   Residential         3069 non-null   int64  \n",
            " 4   Building_Painted    3069 non-null   object \n",
            " 5   Building_Fenced     3069 non-null   object \n",
            " 6   Garden              3065 non-null   object \n",
            " 7   Settlement          3069 non-null   object \n",
            " 8   Building Dimension  3056 non-null   float64\n",
            " 9   Building_Type       3069 non-null   int64  \n",
            " 10  Date_of_Occupancy   2341 non-null   float64\n",
            " 11  NumberOfWindows     3069 non-null   object \n",
            " 12  Geo_Code            3056 non-null   object \n",
            "dtypes: float64(3), int64(3), object(7)\n",
            "memory usage: 311.8+ KB\n"
          ],
          "name": "stdout"
        }
      ]
    },
    {
      "cell_type": "code",
      "metadata": {
        "colab": {
          "base_uri": "https://localhost:8080/",
          "height": 204
        },
        "id": "wGl1nnC49oI6",
        "outputId": "4f5d7bf5-7b8a-439b-b743-d82f28e1898a"
      },
      "source": [
        "# previewing the sample submission dataset\r\n",
        "sample.head()"
      ],
      "execution_count": 171,
      "outputs": [
        {
          "output_type": "execute_result",
          "data": {
            "text/html": [
              "<div>\n",
              "<style scoped>\n",
              "    .dataframe tbody tr th:only-of-type {\n",
              "        vertical-align: middle;\n",
              "    }\n",
              "\n",
              "    .dataframe tbody tr th {\n",
              "        vertical-align: top;\n",
              "    }\n",
              "\n",
              "    .dataframe thead th {\n",
              "        text-align: right;\n",
              "    }\n",
              "</style>\n",
              "<table border=\"1\" class=\"dataframe\">\n",
              "  <thead>\n",
              "    <tr style=\"text-align: right;\">\n",
              "      <th></th>\n",
              "      <th>Customer Id</th>\n",
              "      <th>Claim</th>\n",
              "    </tr>\n",
              "  </thead>\n",
              "  <tbody>\n",
              "    <tr>\n",
              "      <th>0</th>\n",
              "      <td>H0</td>\n",
              "      <td>1</td>\n",
              "    </tr>\n",
              "    <tr>\n",
              "      <th>1</th>\n",
              "      <td>H10000</td>\n",
              "      <td>1</td>\n",
              "    </tr>\n",
              "    <tr>\n",
              "      <th>2</th>\n",
              "      <td>H10001</td>\n",
              "      <td>1</td>\n",
              "    </tr>\n",
              "    <tr>\n",
              "      <th>3</th>\n",
              "      <td>H10002</td>\n",
              "      <td>1</td>\n",
              "    </tr>\n",
              "    <tr>\n",
              "      <th>4</th>\n",
              "      <td>H10003</td>\n",
              "      <td>1</td>\n",
              "    </tr>\n",
              "  </tbody>\n",
              "</table>\n",
              "</div>"
            ],
            "text/plain": [
              "  Customer Id  Claim\n",
              "0          H0      1\n",
              "1      H10000      1\n",
              "2      H10001      1\n",
              "3      H10002      1\n",
              "4      H10003      1"
            ]
          },
          "metadata": {
            "tags": []
          },
          "execution_count": 171
        }
      ]
    },
    {
      "cell_type": "markdown",
      "metadata": {
        "id": "vvhktN8A8WlP"
      },
      "source": [
        "# 5. Data Cleaning"
      ]
    },
    {
      "cell_type": "code",
      "metadata": {
        "colab": {
          "base_uri": "https://localhost:8080/"
        },
        "id": "8SBgBju_7Y6e",
        "outputId": "1caa391b-5d43-466e-8ad5-287a71995702"
      },
      "source": [
        "# standardizing the column names of train dataset\r\n",
        "train.columns = train.columns.str.lower().str.replace('_','').str.replace(' ','')\r\n",
        "train.columns"
      ],
      "execution_count": 172,
      "outputs": [
        {
          "output_type": "execute_result",
          "data": {
            "text/plain": [
              "Index(['customerid', 'yearofobservation', 'insuredperiod', 'residential',\n",
              "       'buildingpainted', 'buildingfenced', 'garden', 'settlement',\n",
              "       'buildingdimension', 'buildingtype', 'dateofoccupancy',\n",
              "       'numberofwindows', 'geocode', 'claim'],\n",
              "      dtype='object')"
            ]
          },
          "metadata": {
            "tags": []
          },
          "execution_count": 172
        }
      ]
    },
    {
      "cell_type": "code",
      "metadata": {
        "colab": {
          "base_uri": "https://localhost:8080/"
        },
        "id": "YSCFc_Oo7zzY",
        "outputId": "35e20db5-9642-4f15-a37b-c6208b09f13d"
      },
      "source": [
        "# standardizing the column names of test dataset\r\n",
        "test.columns = test.columns.str.lower().str.replace('_','').str.replace(' ','')\r\n",
        "test.columns"
      ],
      "execution_count": 173,
      "outputs": [
        {
          "output_type": "execute_result",
          "data": {
            "text/plain": [
              "Index(['customerid', 'yearofobservation', 'insuredperiod', 'residential',\n",
              "       'buildingpainted', 'buildingfenced', 'garden', 'settlement',\n",
              "       'buildingdimension', 'buildingtype', 'dateofoccupancy',\n",
              "       'numberofwindows', 'geocode'],\n",
              "      dtype='object')"
            ]
          },
          "metadata": {
            "tags": []
          },
          "execution_count": 173
        }
      ]
    },
    {
      "cell_type": "code",
      "metadata": {
        "id": "s-7VqfjvQaEW"
      },
      "source": [
        ""
      ],
      "execution_count": 173,
      "outputs": []
    },
    {
      "cell_type": "code",
      "metadata": {
        "colab": {
          "base_uri": "https://localhost:8080/"
        },
        "id": "mUbAfbPgA7Vr",
        "outputId": "7d963b91-dc3d-4f40-f8a6-66243eb48c99"
      },
      "source": [
        "# checking for missing values in both datasets\r\n",
        "print(train.isnull().sum().sum())\r\n",
        "print('*'*100)\r\n",
        "test.isnull().sum().sum()"
      ],
      "execution_count": 174,
      "outputs": [
        {
          "output_type": "stream",
          "text": [
            "723\n",
            "****************************************************************************************************\n"
          ],
          "name": "stdout"
        },
        {
          "output_type": "execute_result",
          "data": {
            "text/plain": [
              "758"
            ]
          },
          "metadata": {
            "tags": []
          },
          "execution_count": 174
        }
      ]
    },
    {
      "cell_type": "markdown",
      "metadata": {
        "id": "8F7TIVLLBxGH"
      },
      "source": [
        "The train dataset has 723 missing values while test dataset has 758. "
      ]
    },
    {
      "cell_type": "code",
      "metadata": {
        "colab": {
          "base_uri": "https://localhost:8080/"
        },
        "id": "7ePw92byBljJ",
        "outputId": "8de20635-f27d-46e0-f0e9-64bbf955cfb1"
      },
      "source": [
        "# checking the variables with missing values in the train dataset\r\n",
        "train.isnull().sum()"
      ],
      "execution_count": 175,
      "outputs": [
        {
          "output_type": "execute_result",
          "data": {
            "text/plain": [
              "customerid             0\n",
              "yearofobservation      0\n",
              "insuredperiod          0\n",
              "residential            0\n",
              "buildingpainted        0\n",
              "buildingfenced         0\n",
              "garden                 7\n",
              "settlement             0\n",
              "buildingdimension    106\n",
              "buildingtype           0\n",
              "dateofoccupancy      508\n",
              "numberofwindows        0\n",
              "geocode              102\n",
              "claim                  0\n",
              "dtype: int64"
            ]
          },
          "metadata": {
            "tags": []
          },
          "execution_count": 175
        }
      ]
    },
    {
      "cell_type": "markdown",
      "metadata": {
        "id": "Xg-ARHOkCWDp"
      },
      "source": [
        "the following variables have the indicated missing values:-\r\n",
        "\r\n",
        "\r\n",
        "*   Garden, 7\r\n",
        "*   Building Dimension, 106\r\n",
        "*   Date of Occupancy, 508\r\n",
        "*   Geo Code, 102\r\n"
      ]
    },
    {
      "cell_type": "markdown",
      "metadata": {
        "id": "r2tFUxjzDF5E"
      },
      "source": [
        "## 5.1 Handling the missing values in the train dataset"
      ]
    },
    {
      "cell_type": "code",
      "metadata": {
        "id": "y3Ju04HQD5OF"
      },
      "source": [
        "# the missing data look like its MCAR. So I am going to imputing the garden variable \r\n",
        "# the missing vales with the mode for the missing values are not a lot. \r\n",
        "train.garden.fillna(train.garden.mode(), inplace=True )"
      ],
      "execution_count": 176,
      "outputs": []
    },
    {
      "cell_type": "code",
      "metadata": {
        "id": "iVlHtVkuEwwN"
      },
      "source": [
        "# dropping the rows with null values in the building dimension variable \r\n",
        "# because, if I impute using mean or median, data will be biased\r\n",
        "train.buildingdimension.dropna(inplace=True)"
      ],
      "execution_count": 177,
      "outputs": []
    },
    {
      "cell_type": "code",
      "metadata": {
        "id": "BolXm8fKPHpx",
        "colab": {
          "base_uri": "https://localhost:8080/"
        },
        "outputId": "e5b9472f-d9ce-49ed-b9b0-2588b6e7aee6"
      },
      "source": [
        "train.isnull().sum()"
      ],
      "execution_count": 178,
      "outputs": [
        {
          "output_type": "execute_result",
          "data": {
            "text/plain": [
              "customerid             0\n",
              "yearofobservation      0\n",
              "insuredperiod          0\n",
              "residential            0\n",
              "buildingpainted        0\n",
              "buildingfenced         0\n",
              "garden                 7\n",
              "settlement             0\n",
              "buildingdimension    106\n",
              "buildingtype           0\n",
              "dateofoccupancy      508\n",
              "numberofwindows        0\n",
              "geocode              102\n",
              "claim                  0\n",
              "dtype: int64"
            ]
          },
          "metadata": {
            "tags": []
          },
          "execution_count": 178
        }
      ]
    },
    {
      "cell_type": "code",
      "metadata": {
        "colab": {
          "base_uri": "https://localhost:8080/"
        },
        "id": "BrITB5ve2k0K",
        "outputId": "e77735f0-6019-4f03-b6ad-0520a666bdc4"
      },
      "source": [
        "# droppping duplicates\r\n",
        "print(train.duplicated().sum())\r\n",
        "print('*'*100)\r\n",
        "test.duplicated().sum()"
      ],
      "execution_count": 179,
      "outputs": [
        {
          "output_type": "stream",
          "text": [
            "0\n",
            "****************************************************************************************************\n"
          ],
          "name": "stdout"
        },
        {
          "output_type": "execute_result",
          "data": {
            "text/plain": [
              "0"
            ]
          },
          "metadata": {
            "tags": []
          },
          "execution_count": 179
        }
      ]
    },
    {
      "cell_type": "markdown",
      "metadata": {
        "id": "94a8d97K3E-D"
      },
      "source": [
        "there are no dupicates in both data sets"
      ]
    },
    {
      "cell_type": "markdown",
      "metadata": {
        "id": "-2FE07X23cxH"
      },
      "source": [
        "# 6. Exploratory Data Analysis\r\n",
        "\r\n"
      ]
    },
    {
      "cell_type": "markdown",
      "metadata": {
        "id": "zl23XIDM3jAo"
      },
      "source": [
        "## 6.1 Univariate Data Analysis "
      ]
    },
    {
      "cell_type": "code",
      "metadata": {
        "colab": {
          "base_uri": "https://localhost:8080/",
          "height": 338
        },
        "id": "nT5LhWHk3_mg",
        "outputId": "4165ce75-9c86-4399-ec78-0eb3c3edc753"
      },
      "source": [
        "# visualisation for the year of observation variable\r\n",
        "train.yearofobservation.value_counts().plot.bar()\r\n",
        "plt.title('Year of Observation', fontsize=20)\r\n",
        "plt.xlabel('Years', fontsize=15)\r\n",
        "plt.ylabel('Counts', fontsize=15)"
      ],
      "execution_count": 180,
      "outputs": [
        {
          "output_type": "execute_result",
          "data": {
            "text/plain": [
              "Text(0, 0.5, 'Counts')"
            ]
          },
          "metadata": {
            "tags": []
          },
          "execution_count": 180
        },
        {
          "output_type": "display_data",
          "data": {
            "image/png": "[encoded data removed]",
            "text/plain": [
              "<Figure size 432x288 with 1 Axes>"
            ]
          },
          "metadata": {
            "tags": [],
            "needs_background": "light"
          }
        }
      ]
    },
    {
      "cell_type": "markdown",
      "metadata": {
        "id": "OC_w-xec6qws"
      },
      "source": [
        "most of the observations recorded was on the year 2012"
      ]
    },
    {
      "cell_type": "code",
      "metadata": {
        "colab": {
          "base_uri": "https://localhost:8080/",
          "height": 359
        },
        "id": "LWLyb1e44xGc",
        "outputId": "6d35fb22-baf2-452b-8d6d-951f17702076"
      },
      "source": [
        "# duration of the insuarance period \r\n",
        "sns.distplot(train.insuredperiod, kde='false')\r\n",
        "plt.title('Duration of Insurance Policy', fontsize=20)\r\n",
        "plt.xlabel('Insured Period', fontsize=15)\r\n",
        "plt.ylabel('Frequency', fontsize=15)\r\n",
        "plt.show()"
      ],
      "execution_count": 181,
      "outputs": [
        {
          "output_type": "stream",
          "text": [
            "/usr/local/lib/python3.6/dist-packages/seaborn/distributions.py:2557: FutureWarning: `distplot` is a deprecated function and will be removed in a future version. Please adapt your code to use either `displot` (a figure-level function with similar flexibility) or `histplot` (an axes-level function for histograms).\n",
            "  warnings.warn(msg, FutureWarning)\n"
          ],
          "name": "stderr"
        },
        {
          "output_type": "display_data",
          "data": {
            "image/png": "[encoded data removed]",
            "text/plain": [
              "<Figure size 432x288 with 1 Axes>"
            ]
          },
          "metadata": {
            "tags": [],
            "needs_background": "light"
          }
        }
      ]
    },
    {
      "cell_type": "markdown",
      "metadata": {
        "id": "L2vlgmVQ8Hwh"
      },
      "source": [
        "a full year insurance policy duration was given in Olusola Insurance"
      ]
    },
    {
      "cell_type": "code",
      "metadata": {
        "colab": {
          "base_uri": "https://localhost:8080/",
          "height": 269
        },
        "id": "lSSb789f7C5T",
        "outputId": "09719852-62cf-4215-c0a3-a07f9be958f8"
      },
      "source": [
        "# are the buildings residential or not?\r\n",
        "train.residential.value_counts().plot.pie()\r\n",
        "plt.title('Residential', fontsize=20)\r\n",
        "plt.show()"
      ],
      "execution_count": 182,
      "outputs": [
        {
          "output_type": "display_data",
          "data": {
            "image/png": "[encoded data removed]",
            "text/plain": [
              "<Figure size 432x288 with 1 Axes>"
            ]
          },
          "metadata": {
            "tags": []
          }
        }
      ]
    },
    {
      "cell_type": "markdown",
      "metadata": {
        "id": "rdfTtqp29_AJ"
      },
      "source": [
        "most of the buildings are not residential"
      ]
    },
    {
      "cell_type": "code",
      "metadata": {
        "colab": {
          "base_uri": "https://localhost:8080/",
          "height": 269
        },
        "id": "d1bs3Yvc9bsQ",
        "outputId": "e0b070ca-875e-4120-9e75-fc71e123460f"
      },
      "source": [
        "# are the buildings painted?\r\n",
        "train.buildingpainted.value_counts().plot.pie()\r\n",
        "plt.title('Building Painted', fontsize=20)\r\n",
        "plt.show()"
      ],
      "execution_count": 183,
      "outputs": [
        {
          "output_type": "display_data",
          "data": {
            "image/png": "[encoded data removed]",
            "text/plain": [
              "<Figure size 432x288 with 1 Axes>"
            ]
          },
          "metadata": {
            "tags": []
          }
        }
      ]
    },
    {
      "cell_type": "markdown",
      "metadata": {
        "id": "O5K58Bz8-av4"
      },
      "source": [
        "most of the buildings are not painted"
      ]
    },
    {
      "cell_type": "code",
      "metadata": {
        "colab": {
          "base_uri": "https://localhost:8080/",
          "height": 354
        },
        "id": "05Z-8LTX-QoR",
        "outputId": "90cd306e-d32e-4d2d-9634-5e8edc708bdb"
      },
      "source": [
        "# are the buildings fenced?\r\n",
        "ax = train.buildingfenced.value_counts().plot.bar()\r\n",
        "plt.title('Fenced Buildings', fontsize=20)\r\n",
        "plt.xlabel('Buildings', fontsize=15)\r\n",
        "plt.ylabel('Frequency', fontsize=15)\r\n",
        "\r\n",
        "train.buildingfenced.value_counts()"
      ],
      "execution_count": 184,
      "outputs": [
        {
          "output_type": "execute_result",
          "data": {
            "text/plain": [
              "N    3608\n",
              "V    3552\n",
              "Name: buildingfenced, dtype: int64"
            ]
          },
          "metadata": {
            "tags": []
          },
          "execution_count": 184
        },
        {
          "output_type": "display_data",
          "data": {
            "image/png": "[encoded data removed]",
            "text/plain": [
              "<Figure size 432x288 with 1 Axes>"
            ]
          },
          "metadata": {
            "tags": [],
            "needs_background": "light"
          }
        }
      ]
    },
    {
      "cell_type": "markdown",
      "metadata": {
        "id": "uXR4R-WfAUHL"
      },
      "source": [
        "more buildings are fenced"
      ]
    },
    {
      "cell_type": "code",
      "metadata": {
        "colab": {
          "base_uri": "https://localhost:8080/",
          "height": 320
        },
        "id": "OEORwwAU_Eue",
        "outputId": "f166fd72-da9c-4cbb-edac-9065c2452fb1"
      },
      "source": [
        "# does the building has a garden or not?\r\n",
        "ax = train.garden.value_counts().plot.pie()\r\n",
        "plt.title('Garden', fontsize=20)\r\n",
        "train.garden.value_counts()\r\n"
      ],
      "execution_count": 185,
      "outputs": [
        {
          "output_type": "execute_result",
          "data": {
            "text/plain": [
              "O    3602\n",
              "V    3551\n",
              "Name: garden, dtype: int64"
            ]
          },
          "metadata": {
            "tags": []
          },
          "execution_count": 185
        },
        {
          "output_type": "display_data",
          "data": {
            "image/png": "[encoded data removed]",
            "text/plain": [
              "<Figure size 432x288 with 1 Axes>"
            ]
          },
          "metadata": {
            "tags": []
          }
        }
      ]
    },
    {
      "cell_type": "markdown",
      "metadata": {
        "id": "VunkZfKiBS2X"
      },
      "source": [
        "there are slightly more buildings without gardens than those with gardens."
      ]
    },
    {
      "cell_type": "code",
      "metadata": {
        "colab": {
          "base_uri": "https://localhost:8080/",
          "height": 320
        },
        "id": "BVYbjieeAsX1",
        "outputId": "a39e7fc1-1c13-4586-8d18-e76866afd3f8"
      },
      "source": [
        "# The area where the building is located. \r\n",
        "ax = train.settlement.value_counts().plot.pie()\r\n",
        "plt.title('Settlement', fontsize=20)\r\n",
        "\r\n",
        "train.settlement.value_counts()"
      ],
      "execution_count": 186,
      "outputs": [
        {
          "output_type": "execute_result",
          "data": {
            "text/plain": [
              "R    3610\n",
              "U    3550\n",
              "Name: settlement, dtype: int64"
            ]
          },
          "metadata": {
            "tags": []
          },
          "execution_count": 186
        },
        {
          "output_type": "display_data",
          "data": {
            "image/png": "[encoded data removed]",
            "text/plain": [
              "<Figure size 432x288 with 1 Axes>"
            ]
          },
          "metadata": {
            "tags": []
          }
        }
      ]
    },
    {
      "cell_type": "markdown",
      "metadata": {
        "id": "4foum9rECgzI"
      },
      "source": [
        "most of the buildings are located in the rural areas than the urban area."
      ]
    },
    {
      "cell_type": "code",
      "metadata": {
        "colab": {
          "base_uri": "https://localhost:8080/",
          "height": 349
        },
        "id": "ESz9Z8SZDc8P",
        "outputId": "a47c4da0-ee60-4da1-b9b3-54ccacf7cada"
      },
      "source": [
        "# size of insured buildings\r\n",
        "sns.distplot(train.buildingdimension)\r\n",
        "plt.title('Size of the Insured Building')\r\n",
        "plt.xlabel('Building Dimension(m2)')\r\n",
        "plt.ylabel('Frequency')\r\n",
        "plt.show()"
      ],
      "execution_count": 187,
      "outputs": [
        {
          "output_type": "stream",
          "text": [
            "/usr/local/lib/python3.6/dist-packages/seaborn/distributions.py:2557: FutureWarning: `distplot` is a deprecated function and will be removed in a future version. Please adapt your code to use either `displot` (a figure-level function with similar flexibility) or `histplot` (an axes-level function for histograms).\n",
            "  warnings.warn(msg, FutureWarning)\n"
          ],
          "name": "stderr"
        },
        {
          "output_type": "display_data",
          "data": {
            "image/png": "[encoded data removed]",
            "text/plain": [
              "<Figure size 432x288 with 1 Axes>"
            ]
          },
          "metadata": {
            "tags": [],
            "needs_background": "light"
          }
        }
      ]
    },
    {
      "cell_type": "markdown",
      "metadata": {
        "id": "LaOkonNTLFcW"
      },
      "source": [
        "ths sizeof buildings is mostly distributed between 0 and 2,500 m2"
      ]
    },
    {
      "cell_type": "code",
      "metadata": {
        "colab": {
          "base_uri": "https://localhost:8080/",
          "height": 319
        },
        "id": "BW1W4JIwCEyR",
        "outputId": "f5377365-bac0-4010-cee7-502fcef254e2"
      },
      "source": [
        "# type of buildings\r\n",
        "train.buildingtype.value_counts().plot.bar()\r\n",
        "plt.title(\"Type of Building\", fontsize=20)\r\n",
        "plt.xlabel(\"Type of Building\", fontsize=15)\r\n",
        "plt.ylabel(\"Frequency\", fontsize=15)"
      ],
      "execution_count": 188,
      "outputs": [
        {
          "output_type": "execute_result",
          "data": {
            "text/plain": [
              "Text(0, 0.5, 'Frequency')"
            ]
          },
          "metadata": {
            "tags": []
          },
          "execution_count": 188
        },
        {
          "output_type": "display_data",
          "data": {
            "image/png": "[encoded data removed]",
            "text/plain": [
              "<Figure size 432x288 with 1 Axes>"
            ]
          },
          "metadata": {
            "tags": [],
            "needs_background": "light"
          }
        }
      ]
    },
    {
      "cell_type": "markdown",
      "metadata": {
        "id": "6YqP7AjANrBR"
      },
      "source": [
        "type 2 of the buildings is the most frequently insured."
      ]
    },
    {
      "cell_type": "code",
      "metadata": {
        "colab": {
          "base_uri": "https://localhost:8080/",
          "height": 349
        },
        "id": "jCmlVbO8MC3G",
        "outputId": "7c4561c1-0f5b-42e7-97c8-d83629b037a1"
      },
      "source": [
        "# the date when the building was first occupied\r\n",
        "sns.distplot(train.dateofoccupancy)\r\n",
        "plt.title('Date of Occupancy')\r\n",
        "plt.xlabel('Date of Occupancy')\r\n",
        "plt.ylabel('Frequency')\r\n",
        "plt.show()"
      ],
      "execution_count": 189,
      "outputs": [
        {
          "output_type": "stream",
          "text": [
            "/usr/local/lib/python3.6/dist-packages/seaborn/distributions.py:2557: FutureWarning: `distplot` is a deprecated function and will be removed in a future version. Please adapt your code to use either `displot` (a figure-level function with similar flexibility) or `histplot` (an axes-level function for histograms).\n",
            "  warnings.warn(msg, FutureWarning)\n"
          ],
          "name": "stderr"
        },
        {
          "output_type": "display_data",
          "data": {
            "image/png": "[encoded data removed]",
            "text/plain": [
              "<Figure size 432x288 with 1 Axes>"
            ]
          },
          "metadata": {
            "tags": [],
            "needs_background": "light"
          }
        }
      ]
    },
    {
      "cell_type": "markdown",
      "metadata": {
        "id": "xhoCLDsEPBM_"
      },
      "source": [
        "most of the buildings were occupied in 1950 to 2000"
      ]
    },
    {
      "cell_type": "code",
      "metadata": {
        "colab": {
          "base_uri": "https://localhost:8080/"
        },
        "id": "jTnaCq4U37JB",
        "outputId": "c355f65f-dfdf-4cb4-ff0d-f0fc0b406db7"
      },
      "source": [
        "train.dtypes"
      ],
      "execution_count": 190,
      "outputs": [
        {
          "output_type": "execute_result",
          "data": {
            "text/plain": [
              "customerid            object\n",
              "yearofobservation      int64\n",
              "insuredperiod        float64\n",
              "residential            int64\n",
              "buildingpainted       object\n",
              "buildingfenced        object\n",
              "garden                object\n",
              "settlement            object\n",
              "buildingdimension    float64\n",
              "buildingtype           int64\n",
              "dateofoccupancy      float64\n",
              "numberofwindows       object\n",
              "geocode               object\n",
              "claim                  int64\n",
              "dtype: object"
            ]
          },
          "metadata": {
            "tags": []
          },
          "execution_count": 190
        }
      ]
    },
    {
      "cell_type": "code",
      "metadata": {
        "colab": {
          "base_uri": "https://localhost:8080/",
          "height": 302
        },
        "id": "78TPejgAOCE6",
        "outputId": "3b12534a-93b9-4594-c300-875219278aeb"
      },
      "source": [
        "train.numberofwindows.value_counts().plot.bar()"
      ],
      "execution_count": 191,
      "outputs": [
        {
          "output_type": "execute_result",
          "data": {
            "text/plain": [
              "<matplotlib.axes._subplots.AxesSubplot at 0x7f8e6d24ff98>"
            ]
          },
          "metadata": {
            "tags": []
          },
          "execution_count": 191
        },
        {
          "output_type": "display_data",
          "data": {
            "image/png": "[encoded data removed]",
            "text/plain": [
              "<Figure size 432x288 with 1 Axes>"
            ]
          },
          "metadata": {
            "tags": [],
            "needs_background": "light"
          }
        }
      ]
    },
    {
      "cell_type": "markdown",
      "metadata": {
        "id": "e6Kp6YRnPwVp"
      },
      "source": [
        "there is a high number of null values"
      ]
    },
    {
      "cell_type": "code",
      "metadata": {
        "colab": {
          "base_uri": "https://localhost:8080/",
          "height": 129
        },
        "id": "eRN4uIvRPf-j",
        "outputId": "9eae299f-d0d4-4ee2-ed26-75248a94d3a4"
      },
      "source": [
        "there issubclass"
      ],
      "execution_count": 192,
      "outputs": [
        {
          "output_type": "error",
          "ename": "SyntaxError",
          "evalue": "ignored",
          "traceback": [
            "\u001b[0;36m  File \u001b[0;32m\"<ipython-input-192-e9ba335e9c4c>\"\u001b[0;36m, line \u001b[0;32m1\u001b[0m\n\u001b[0;31m    there issubclass\u001b[0m\n\u001b[0m                   ^\u001b[0m\n\u001b[0;31mSyntaxError\u001b[0m\u001b[0;31m:\u001b[0m invalid syntax\n"
          ]
        }
      ]
    }
  ]
}